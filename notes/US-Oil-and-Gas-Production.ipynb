{
 "cells": [
  {
   "cell_type": "markdown",
   "id": "2a3dbff3",
   "metadata": {},
   "source": [
    "# U.S. Oil and Gas Production Analysis\n",
    "\n",
    "Analysing the [Kaggle Dataset](https://www.kaggle.com/djzurawski/us-oil-and-gas-production-june-2008-to-june-2018) with information about Oil and Gas production in the US from June 2008 to June 2018.\n",
    "<br>\n",
    "</br>\n",
    "**Business Question:**\n",
    "    How much gas has been produced yearly by each US state, and by the US as a whole?"
   ]
  },
  {
   "cell_type": "markdown",
   "id": "72916a5e",
   "metadata": {},
   "source": [
    "## To kick start\n",
    "- import the libraries\n",
    "- loading data\n",
    "- inspect data"
   ]
  },
  {
   "cell_type": "code",
   "execution_count": 1,
   "id": "e28083fe",
   "metadata": {},
   "outputs": [],
   "source": [
    "import numpy as np\n",
    "import pandas as pd\n",
    "import matplotlib"
   ]
  },
  {
   "cell_type": "code",
   "execution_count": 4,
   "id": "dfca32a3",
   "metadata": {
    "scrolled": true
   },
   "outputs": [
    {
     "name": "stdout",
     "output_type": "stream",
     "text": [
      "U.S._natural_gas_production.csv\r\n"
     ]
    }
   ],
   "source": [
    "# !cd ../data && ls"
   ]
  },
  {
   "cell_type": "markdown",
   "id": "5e0f18eb",
   "metadata": {},
   "source": [
    "<details>\n",
    "    <summary>🧜‍♂️ Data Inspection</summary>\n",
    "    <ul>\n",
    "        <li>head</li>\n",
    "        <li>size and shape</li>\n",
    "        <li>all columns</li>\n",
    "        <li>data types and values</li>\n",
    "    </ul>\n",
    "</details>"
   ]
  },
  {
   "cell_type": "code",
   "execution_count": 6,
   "id": "7ae239bb",
   "metadata": {},
   "outputs": [
    {
     "data": {
      "text/html": [
       "<div>\n",
       "<style scoped>\n",
       "    .dataframe tbody tr th:only-of-type {\n",
       "        vertical-align: middle;\n",
       "    }\n",
       "\n",
       "    .dataframe tbody tr th {\n",
       "        vertical-align: top;\n",
       "    }\n",
       "\n",
       "    .dataframe thead th {\n",
       "        text-align: right;\n",
       "    }\n",
       "</style>\n",
       "<table border=\"1\" class=\"dataframe\">\n",
       "  <thead>\n",
       "    <tr style=\"text-align: right;\">\n",
       "      <th></th>\n",
       "      <th>Month</th>\n",
       "      <th>U.S.</th>\n",
       "      <th>Alaska</th>\n",
       "      <th>Arkansas</th>\n",
       "      <th>Kansas</th>\n",
       "      <th>Other States</th>\n",
       "      <th>Federal Offshore--Gulf of Mexico</th>\n",
       "      <th>Wyoming</th>\n",
       "      <th>West Virginia</th>\n",
       "      <th>Utah</th>\n",
       "      <th>Pennsylvania</th>\n",
       "      <th>Texas</th>\n",
       "      <th>Oklahoma</th>\n",
       "      <th>Ohio</th>\n",
       "      <th>North Dakota</th>\n",
       "      <th>New Mexico</th>\n",
       "      <th>Montana</th>\n",
       "      <th>Louisiana</th>\n",
       "      <th>Colorado</th>\n",
       "      <th>California</th>\n",
       "    </tr>\n",
       "  </thead>\n",
       "  <tbody>\n",
       "    <tr>\n",
       "      <th>0</th>\n",
       "      <td>2008-06-01</td>\n",
       "      <td>70626</td>\n",
       "      <td>8875</td>\n",
       "      <td>1196</td>\n",
       "      <td>1024</td>\n",
       "      <td>2995</td>\n",
       "      <td>7339</td>\n",
       "      <td>6839</td>\n",
       "      <td>670</td>\n",
       "      <td>1198</td>\n",
       "      <td>540</td>\n",
       "      <td>21446</td>\n",
       "      <td>5241</td>\n",
       "      <td>224</td>\n",
       "      <td>243</td>\n",
       "      <td>3975</td>\n",
       "      <td>323</td>\n",
       "      <td>3989</td>\n",
       "      <td>3576</td>\n",
       "      <td>932</td>\n",
       "    </tr>\n",
       "    <tr>\n",
       "      <th>1</th>\n",
       "      <td>2008-07-01</td>\n",
       "      <td>71137</td>\n",
       "      <td>8375</td>\n",
       "      <td>1256</td>\n",
       "      <td>1034</td>\n",
       "      <td>3150</td>\n",
       "      <td>7468</td>\n",
       "      <td>6940</td>\n",
       "      <td>674</td>\n",
       "      <td>1200</td>\n",
       "      <td>512</td>\n",
       "      <td>21547</td>\n",
       "      <td>5256</td>\n",
       "      <td>220</td>\n",
       "      <td>243</td>\n",
       "      <td>4179</td>\n",
       "      <td>324</td>\n",
       "      <td>4008</td>\n",
       "      <td>3834</td>\n",
       "      <td>919</td>\n",
       "    </tr>\n",
       "    <tr>\n",
       "      <th>2</th>\n",
       "      <td>2008-08-01</td>\n",
       "      <td>70760</td>\n",
       "      <td>8739</td>\n",
       "      <td>1313</td>\n",
       "      <td>1033</td>\n",
       "      <td>3092</td>\n",
       "      <td>6868</td>\n",
       "      <td>6835</td>\n",
       "      <td>678</td>\n",
       "      <td>1277</td>\n",
       "      <td>529</td>\n",
       "      <td>21777</td>\n",
       "      <td>4896</td>\n",
       "      <td>220</td>\n",
       "      <td>249</td>\n",
       "      <td>4092</td>\n",
       "      <td>327</td>\n",
       "      <td>3896</td>\n",
       "      <td>4056</td>\n",
       "      <td>881</td>\n",
       "    </tr>\n",
       "  </tbody>\n",
       "</table>\n",
       "</div>"
      ],
      "text/plain": [
       "        Month   U.S.  Alaska  Arkansas  Kansas  Other States  \\\n",
       "0  2008-06-01  70626    8875      1196    1024          2995   \n",
       "1  2008-07-01  71137    8375      1256    1034          3150   \n",
       "2  2008-08-01  70760    8739      1313    1033          3092   \n",
       "\n",
       "   Federal Offshore--Gulf of Mexico  Wyoming  West Virginia  Utah  \\\n",
       "0                              7339     6839            670  1198   \n",
       "1                              7468     6940            674  1200   \n",
       "2                              6868     6835            678  1277   \n",
       "\n",
       "   Pennsylvania  Texas  Oklahoma  Ohio  North Dakota  New Mexico  Montana  \\\n",
       "0           540  21446      5241   224           243        3975      323   \n",
       "1           512  21547      5256   220           243        4179      324   \n",
       "2           529  21777      4896   220           249        4092      327   \n",
       "\n",
       "   Louisiana  Colorado  California  \n",
       "0       3989      3576         932  \n",
       "1       4008      3834         919  \n",
       "2       3896      4056         881  "
      ]
     },
     "execution_count": 6,
     "metadata": {},
     "output_type": "execute_result"
    }
   ],
   "source": [
    "file = \"../data/U.S._natural_gas_production.csv\"\n",
    "gas_df = pd.read_csv(file, decimal=\",\")\n",
    "gas_df.head(3)"
   ]
  },
  {
   "cell_type": "code",
   "execution_count": 7,
   "id": "1f31811b",
   "metadata": {},
   "outputs": [
    {
     "data": {
      "text/plain": [
       "(121, 20)"
      ]
     },
     "execution_count": 7,
     "metadata": {},
     "output_type": "execute_result"
    }
   ],
   "source": [
    "# Check how many rows and columns in the dataframe\n",
    "gas_df.shape"
   ]
  },
  {
   "cell_type": "code",
   "execution_count": 8,
   "id": "78b8beba",
   "metadata": {},
   "outputs": [
    {
     "data": {
      "text/plain": [
       "Index(['Month', 'U.S.', 'Alaska', 'Arkansas', 'Kansas', 'Other States',\n",
       "       'Federal Offshore--Gulf of Mexico', 'Wyoming', 'West Virginia', 'Utah',\n",
       "       'Pennsylvania', 'Texas', 'Oklahoma', 'Ohio', 'North Dakota',\n",
       "       'New Mexico', 'Montana', 'Louisiana', 'Colorado', 'California'],\n",
       "      dtype='object')"
      ]
     },
     "execution_count": 8,
     "metadata": {},
     "output_type": "execute_result"
    }
   ],
   "source": [
    "# Display all the available column names in the dataframe\n",
    "gas_df.columns"
   ]
  },
  {
   "cell_type": "code",
   "execution_count": 9,
   "id": "f705f4c3",
   "metadata": {
    "scrolled": false
   },
   "outputs": [
    {
     "name": "stdout",
     "output_type": "stream",
     "text": [
      "<class 'pandas.core.frame.DataFrame'>\n",
      "RangeIndex: 121 entries, 0 to 120\n",
      "Data columns (total 20 columns):\n",
      " #   Column                            Non-Null Count  Dtype \n",
      "---  ------                            --------------  ----- \n",
      " 0   Month                             121 non-null    object\n",
      " 1   U.S.                              121 non-null    int64 \n",
      " 2   Alaska                            121 non-null    int64 \n",
      " 3   Arkansas                          121 non-null    int64 \n",
      " 4   Kansas                            121 non-null    int64 \n",
      " 5   Other States                      121 non-null    int64 \n",
      " 6   Federal Offshore--Gulf of Mexico  121 non-null    int64 \n",
      " 7   Wyoming                           121 non-null    int64 \n",
      " 8   West Virginia                     121 non-null    int64 \n",
      " 9   Utah                              121 non-null    int64 \n",
      " 10  Pennsylvania                      121 non-null    int64 \n",
      " 11  Texas                             121 non-null    int64 \n",
      " 12  Oklahoma                          121 non-null    int64 \n",
      " 13  Ohio                              121 non-null    int64 \n",
      " 14  North Dakota                      121 non-null    int64 \n",
      " 15  New Mexico                        121 non-null    int64 \n",
      " 16  Montana                           121 non-null    int64 \n",
      " 17  Louisiana                         121 non-null    int64 \n",
      " 18  Colorado                          121 non-null    int64 \n",
      " 19  California                        121 non-null    int64 \n",
      "dtypes: int64(19), object(1)\n",
      "memory usage: 19.0+ KB\n"
     ]
    }
   ],
   "source": [
    "# Display additional info about each columns such as data types and number of non-null values\n",
    "gas_df.info()"
   ]
  },
  {
   "cell_type": "markdown",
   "id": "67ffcc40",
   "metadata": {},
   "source": [
    "## Data Preparation"
   ]
  },
  {
   "cell_type": "markdown",
   "id": "82871f65",
   "metadata": {},
   "source": [
    "### Data type Conversion\n",
    "- convert `Month` datatype (object to date)"
   ]
  },
  {
   "cell_type": "code",
   "execution_count": 13,
   "id": "4f4e0714",
   "metadata": {},
   "outputs": [],
   "source": [
    "gas_df['Month'] = pd.to_datetime(gas_df['Month'])"
   ]
  },
  {
   "cell_type": "code",
   "execution_count": 14,
   "id": "3f13c08b",
   "metadata": {
    "scrolled": true
   },
   "outputs": [
    {
     "data": {
      "text/plain": [
       "dtype('<M8[ns]')"
      ]
     },
     "execution_count": 14,
     "metadata": {},
     "output_type": "execute_result"
    }
   ],
   "source": [
    "gas_df['Month'].dtype"
   ]
  },
  {
   "cell_type": "markdown",
   "id": "585dd7ae",
   "metadata": {},
   "source": [
    "### Grouping\n",
    "- Yearly gas production"
   ]
  },
  {
   "cell_type": "code",
   "execution_count": 22,
   "id": "6070bedc",
   "metadata": {},
   "outputs": [],
   "source": [
    "yearly_gas_df = gas_df.groupby(gas_df[\"Month\"].dt.year).sum()"
   ]
  },
  {
   "cell_type": "code",
   "execution_count": 25,
   "id": "12c3268d",
   "metadata": {
    "scrolled": true
   },
   "outputs": [
    {
     "data": {
      "image/png": "[encoded data removed]",
      "text/plain": [
       "<Figure size 432x288 with 1 Axes>"
      ]
     },
     "metadata": {
      "needs_background": "light"
     },
     "output_type": "display_data"
    }
   ],
   "source": [
    "plot = yearly_gas_df.filter(items=['U.S.']).plot(kind=\"bar\")\n",
    "plot.set_xlabel(\"Year\");"
   ]
  },
  {
   "cell_type": "markdown",
   "id": "99e50e43",
   "metadata": {},
   "source": [
    "2008 and 2018 are not complete, let's filter them out."
   ]
  },
  {
   "cell_type": "code",
   "execution_count": null,
   "id": "48af9bcb",
   "metadata": {},
   "outputs": [],
   "source": [
    "np.logical_and()"
   ]
  }
 ],
 "metadata": {
  "kernelspec": {
   "display_name": "Python 3 (ipykernel)",
   "language": "python",
   "name": "python3"
  },
  "language_info": {
   "codemirror_mode": {
    "name": "ipython",
    "version": 3
   },
   "file_extension": ".py",
   "mimetype": "text/x-python",
   "name": "python",
   "nbconvert_exporter": "python",
   "pygments_lexer": "ipython3",
   "version": "3.8.12"
  },
  "toc": {
   "base_numbering": 1,
   "nav_menu": {},
   "number_sections": true,
   "sideBar": true,
   "skip_h1_title": true,
   "title_cell": "Table of Contents",
   "title_sidebar": "Contents",
   "toc_cell": false,
   "toc_position": {},
   "toc_section_display": true,
   "toc_window_display": true
  }
 },
 "nbformat": 4,
 "nbformat_minor": 5
}
